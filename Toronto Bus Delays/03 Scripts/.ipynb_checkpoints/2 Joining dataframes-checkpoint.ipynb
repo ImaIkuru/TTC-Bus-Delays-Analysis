{
 "cells": [
  {
   "cell_type": "markdown",
   "id": "a6d65908",
   "metadata": {},
   "source": [
    "### In this script I will attempt to find other factors that could have affected bus delays by looking at the incidents. This will allow me to include more columns that better explain the data"
   ]
  },
  {
   "cell_type": "markdown",
   "id": "59fe0b9d",
   "metadata": {},
   "source": [
    "## 1 Importing libraries/ dataset"
   ]
  },
  {
   "cell_type": "code",
   "execution_count": 1,
   "id": "5e936ebc",
   "metadata": {},
   "outputs": [],
   "source": [
    "import pandas as pd\n",
    "import numpy as np\n",
    "import seaborn as sns\n",
    "import matplotlib.pyplot as plt\n",
    "import matplotlib\n",
    "import os"
   ]
  },
  {
   "cell_type": "code",
   "execution_count": 2,
   "id": "baaf8c68",
   "metadata": {},
   "outputs": [],
   "source": [
    "#importing dataset\n",
    "#defining path \n",
    "path=r'/Users/Amaikuru/Desktop/Toronto Bus Delays'\n",
    "#importing data\n",
    "df=pd.read_pickle(os.path.join(path, '02 Data','Prepared', 'bus_delays_cleaned.pkl'))"
   ]
  },
  {
   "cell_type": "markdown",
   "id": "55c14e0d",
   "metadata": {},
   "source": [
    "## 02 Viewing incidents"
   ]
  },
  {
   "cell_type": "code",
   "execution_count": 4,
   "id": "86b7e9cb",
   "metadata": {},
   "outputs": [
    {
     "data": {
      "text/plain": [
       "PIONEER VILLAGE STATIO    452\n",
       "KENNEDY STATION           443\n",
       "KIPLING STATION           440\n",
       "FINCH STATION             363\n",
       "EGLINTON STATION          360\n",
       "                         ... \n",
       "KENNEDY AND KENMARK         1\n",
       "EGLINTON AND SHORTT         1\n",
       "DVAISVILLE STATION          1\n",
       "22 LEBOVIC                  1\n",
       "SHERWAY GARDENS RD          1\n",
       "Name: Location, Length: 5230, dtype: int64"
      ]
     },
     "execution_count": 4,
     "metadata": {},
     "output_type": "execute_result"
    }
   ],
   "source": [
    "df['Location'].value_counts()"
   ]
  },
  {
   "cell_type": "code",
   "execution_count": null,
   "id": "e5fd9e5c",
   "metadata": {},
   "outputs": [],
   "source": [
    "df['']"
   ]
  }
 ],
 "metadata": {
  "kernelspec": {
   "display_name": "Python 3 (ipykernel)",
   "language": "python",
   "name": "python3"
  },
  "language_info": {
   "codemirror_mode": {
    "name": "ipython",
    "version": 3
   },
   "file_extension": ".py",
   "mimetype": "text/x-python",
   "name": "python",
   "nbconvert_exporter": "python",
   "pygments_lexer": "ipython3",
   "version": "3.9.12"
  }
 },
 "nbformat": 4,
 "nbformat_minor": 5
}
